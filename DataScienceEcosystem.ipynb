{
 "cells": [
  {
   "cell_type": "markdown",
   "id": "57760333",
   "metadata": {},
   "source": [
    "# Data Science Tools and Ecosystem"
   ]
  },
  {
   "cell_type": "markdown",
   "id": "59c2f060",
   "metadata": {},
   "source": [
    "## In this notebook, Data Science Tools and Ecosystem are summarized."
   ]
  },
  {
   "cell_type": "markdown",
   "id": "e1c91547",
   "metadata": {},
   "source": [
    "**Objective**\n",
    "- To know about main and Popular Data Science Languages\n",
    "- TO know about Popular Data Science Libraries\n",
    "- To Know about Basic arithmetic  operations\n",
    "- To know about creating tables lists(ordered , unordered ), blod content in notebooks\n"
   ]
  },
  {
   "cell_type": "markdown",
   "id": "499d4fcb",
   "metadata": {},
   "source": [
    "### some of the popular languages that Data Scientists used are:\n",
    "1. Python\n",
    "2. R\n",
    "3. SQL\n",
    "4. JULIA "
   ]
  },
  {
   "cell_type": "markdown",
   "id": "1981bfa3",
   "metadata": {},
   "source": [
    "### Some of the commnly used libraries used by Data Scientists include:\n",
    "1. Pandas\n",
    "2. Numpy\n",
    "3. Keras\n",
    "4. pytorach\n",
    "5. tensolrflow\n",
    "5. matplotlib"
   ]
  },
  {
   "cell_type": "markdown",
   "id": "ecc17292",
   "metadata": {},
   "source": [
    "| Data Science Tools  |\n",
    "|---------------------|\n",
    "|Jupter Notebook      |\n",
    "|RStudio              |\n",
    "|Apache Zeppline      |\n",
    "|Hadoop |\n",
    "|Apachi Spark |"
   ]
  },
  {
   "cell_type": "markdown",
   "id": "31a977c8",
   "metadata": {},
   "source": [
    "### Below are a few eamples of evluatiing arithmetic expressions in Python "
   ]
  },
  {
   "cell_type": "code",
   "execution_count": 1,
   "id": "29ad6b4e",
   "metadata": {},
   "outputs": [
    {
     "data": {
      "text/plain": [
       "17"
      ]
     },
     "execution_count": 1,
     "metadata": {},
     "output_type": "execute_result"
    }
   ],
   "source": [
    "#Thins is a simple arithmetic espression to multiply and add intergers.\n",
    "(3*4)+5"
   ]
  },
  {
   "cell_type": "code",
   "execution_count": 2,
   "id": "b9e8b76e",
   "metadata": {},
   "outputs": [
    {
     "data": {
      "text/plain": [
       "3.3333333333333335"
      ]
     },
     "execution_count": 2,
     "metadata": {},
     "output_type": "execute_result"
    }
   ],
   "source": [
    "# This will convert 200 minutes to hours by diving by 60\n",
    "200/60"
   ]
  },
  {
   "cell_type": "markdown",
   "id": "d63a2b98",
   "metadata": {},
   "source": [
    "## Author \n",
    "Muhammad Adeel \n",
    "melt29172@gmail.com "
   ]
  },
  {
   "cell_type": "code",
   "execution_count": null,
   "id": "18b1d622",
   "metadata": {},
   "outputs": [],
   "source": []
  }
 ],
 "metadata": {
  "kernelspec": {
   "display_name": "Python 3",
   "language": "python",
   "name": "python3"
  },
  "language_info": {
   "codemirror_mode": {
    "name": "ipython",
    "version": 3
   },
   "file_extension": ".py",
   "mimetype": "text/x-python",
   "name": "python",
   "nbconvert_exporter": "python",
   "pygments_lexer": "ipython3",
   "version": "3.13.7"
  }
 },
 "nbformat": 4,
 "nbformat_minor": 5
}
